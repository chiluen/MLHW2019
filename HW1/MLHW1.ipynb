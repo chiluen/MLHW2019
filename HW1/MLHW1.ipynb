{
 "cells": [
  {
   "cell_type": "markdown",
   "metadata": {},
   "source": [
    "Extract Feature"
   ]
  },
  {
   "cell_type": "code",
   "execution_count": 315,
   "metadata": {},
   "outputs": [],
   "source": [
    "import pandas as pd\n",
    "import numpy as np\n",
    "import matplotlib.pyplot as plt"
   ]
  },
  {
   "cell_type": "code",
   "execution_count": 351,
   "metadata": {},
   "outputs": [],
   "source": [
    "d = pd.read_csv(\"/Users/fengchi-luen/Desktop/暑假-機器學習/ml2019spring-hw1/train.csv\", header=0,encoding = 'unicode_escape')"
   ]
  },
  {
   "cell_type": "code",
   "execution_count": 352,
   "metadata": {},
   "outputs": [],
   "source": [
    "# drop by column(index)\n",
    "d.drop(d.columns[[0,1,2]], axis = 1, inplace = True)\n",
    "d = d.replace('NR', 0)\n",
    "pre_data = np.array(d, dtype = 'float') "
   ]
  },
  {
   "cell_type": "code",
   "execution_count": 394,
   "metadata": {},
   "outputs": [],
   "source": [
    "def extract(pre_data, train):\n",
    "    \n",
    "    #第一部分, 將資料做拼接\n",
    "    data = np.zeros((18,1)) # 先建立一個data set\n",
    "    temp = pre_data[0,:]\n",
    "    for i in range(1,pre_data.shape[0]):\n",
    "        if i%18 == 0:\n",
    "            data = np.hstack((data, temp))\n",
    "            temp = pre_data[i,:]\n",
    "        else:\n",
    "            temp = np.vstack((temp, pre_data[i,:]))\n",
    "    data = np.hstack((data, temp))\n",
    "    data = np.delete(data,0,axis = 1) \n",
    "    \n",
    "    #第二部分, 將每9個小時的資料接起來作為訓練集(測試集)\n",
    "    x_train = np.zeros((1,18*9))\n",
    "    \n",
    "    if train == True:\n",
    "        y_train = []\n",
    "        for i in range(data.shape[1] - 10):\n",
    "            #處理y_train\n",
    "            y_train.append(data[9,i + 9])\n",
    "            \n",
    "            #處理x_train\n",
    "            temp = np.transpose(data[:,i:i+1])\n",
    "            for j in range(i+1,i+9):\n",
    "                temp = np.hstack((temp, np.transpose(data[:,j:j+1])))\n",
    "            x_train = np.vstack((x_train,temp))\n",
    "        x_train = np.delete(x_train,0,axis = 0) \n",
    "        y_train = np.array(y_train).reshape((5750,1)) #把y轉成array\n",
    "        return x_train, y_train\n",
    "    else:\n",
    "        for i in range(0,data.shape[1],9):\n",
    "            \n",
    "            #處理x_train\n",
    "            temp = np.transpose(data[:,i:i+1])\n",
    "            for j in range(i+1,i+9):\n",
    "                temp = np.hstack((temp, np.transpose(data[:,j:j+1])))\n",
    "            x_train = np.vstack((x_train,temp))\n",
    "        x_train = np.delete(x_train,0,axis = 0) \n",
    "        return x_train\n",
    "        \n",
    "    "
   ]
  },
  {
   "cell_type": "code",
   "execution_count": 390,
   "metadata": {},
   "outputs": [],
   "source": [
    "def loss_visual(loss_list):\n",
    "    # visualize loss \n",
    "    plt.style.use('classic')\n",
    "    plt.plot(loss_list)\n",
    "    plt.xlabel('iteration')\n",
    "    plt.title('Loss')"
   ]
  },
  {
   "cell_type": "code",
   "execution_count": 395,
   "metadata": {},
   "outputs": [],
   "source": [
    "x_train, y_train = extract(pre_data, True)"
   ]
  },
  {
   "cell_type": "code",
   "execution_count": 397,
   "metadata": {},
   "outputs": [
    {
     "name": "stderr",
     "output_type": "stream",
     "text": [
      "/anaconda3/lib/python3.6/site-packages/ipykernel_launcher.py:11: RuntimeWarning: overflow encountered in multiply\n",
      "  # This is added back by InteractiveShellApp.init_path()\n"
     ]
    },
    {
     "data": {
      "image/png": "[encoded data removed]",
      "text/plain": [
       "<Figure size 640x480 with 1 Axes>"
      ]
     },
     "metadata": {},
     "output_type": "display_data"
    }
   ],
   "source": [
    "# Gradient descent最初版本\n",
    "# 成效非常爛, 因為在gradient很容易把持不住數字就會狂飆\n",
    "w = np.repeat(0.001, x_train.shape[1]).reshape(x_train.shape[1],1)\n",
    "iteration = 300\n",
    "lr = 0.000001 # learning rate\n",
    "loss_list = []  #用來視覺化loss的變化\n",
    "for i in range(iteration):\n",
    "    y_predict = x_train.dot(w)\n",
    "    loss = y_predict - y_train\n",
    "    loss_list.append(loss.mean())\n",
    "    gradient = 2 * np.dot(x_train.transpose(), loss)\n",
    "    w -= lr * gradient\n",
    "loss_visual(loss_list)"
   ]
  },
  {
   "cell_type": "code",
   "execution_count": 408,
   "metadata": {},
   "outputs": [
    {
     "data": {
      "image/png": "[encoded data removed]",
      "text/plain": [
       "<Figure size 640x480 with 1 Axes>"
      ]
     },
     "metadata": {},
     "output_type": "display_data"
    }
   ],
   "source": [
    "# Gradient descent Adagrad\n",
    "#把之前的gradient納入考量的版本\n",
    "#w = np.repeat(0.1, x_train.shape[1]).reshape(x_train.shape[1],1)\n",
    "w = np.random.rand(x_train.shape[1],1)\n",
    "iteration = 5000\n",
    "lr = 0.01 # learning rate\n",
    "prev_gra = np.zeros(x_train.shape[1]).reshape(x_train.shape[1],1)\n",
    "loss_list = []  #用來視覺化loss的變化\n",
    "for i in range(iteration):\n",
    "    y_predict = x_train.dot(w)\n",
    "    loss = y_predict - y_train\n",
    "    loss_list.append(abs(loss).mean())\n",
    "    gradient = 2 * np.dot(x_train.transpose(), loss)\n",
    "    prev_gra += gradient ** 2\n",
    "    ada = np.sqrt(prev_gra)\n",
    "    w -= lr * gradient / ada\n",
    "loss_visual(loss_list)"
   ]
  },
  {
   "cell_type": "code",
   "execution_count": 400,
   "metadata": {},
   "outputs": [],
   "source": [
    "#testing\n",
    "d_test = pd.read_csv(\"/Users/fengchi-luen/Desktop/暑假-機器學習/ml2019spring-hw1/test.csv\", header= None,encoding = 'unicode_escape')\n",
    "d_test.drop(d_test.columns[[0,1]], axis = 1, inplace = True)\n",
    "d_test = d_test.replace('NR', 0)\n",
    "pre_data_test = np.array(d_test, dtype = 'float')"
   ]
  },
  {
   "cell_type": "code",
   "execution_count": 420,
   "metadata": {},
   "outputs": [],
   "source": [
    "x_test = extract(pre_data_test, False)\n",
    "ans = pd.DataFrame(np.dot(x_train,w))"
   ]
  },
  {
   "cell_type": "code",
   "execution_count": 433,
   "metadata": {},
   "outputs": [],
   "source": [
    "# filling\n",
    "d_submission = pd.read_csv(\"/Users/fengchi-luen/Desktop/暑假-機器學習/ml2019spring-hw1/sampleSubmission.csv\",encoding = 'unicode_escape')\n",
    "d_submission = d_submission.drop(['value'], axis = 1)\n",
    "d_submission['value'] = ans"
   ]
  },
  {
   "cell_type": "code",
   "execution_count": 438,
   "metadata": {},
   "outputs": [],
   "source": [
    "d_submission.to_csv(\"/Users/fengchi-luen/Desktop/暑假-機器學習/ml2019spring-hw1/ans.csv\", index = 0)"
   ]
  },
  {
   "cell_type": "code",
   "execution_count": 439,
   "metadata": {},
   "outputs": [
    {
     "data": {
      "text/html": [
       "<div>\n",
       "<style scoped>\n",
       "    .dataframe tbody tr th:only-of-type {\n",
       "        vertical-align: middle;\n",
       "    }\n",
       "\n",
       "    .dataframe tbody tr th {\n",
       "        vertical-align: top;\n",
       "    }\n",
       "\n",
       "    .dataframe thead th {\n",
       "        text-align: right;\n",
       "    }\n",
       "</style>\n",
       "<table border=\"1\" class=\"dataframe\">\n",
       "  <thead>\n",
       "    <tr style=\"text-align: right;\">\n",
       "      <th></th>\n",
       "      <th>id</th>\n",
       "      <th>value</th>\n",
       "    </tr>\n",
       "  </thead>\n",
       "  <tbody>\n",
       "    <tr>\n",
       "      <th>0</th>\n",
       "      <td>id_0</td>\n",
       "      <td>55.787680</td>\n",
       "    </tr>\n",
       "    <tr>\n",
       "      <th>1</th>\n",
       "      <td>id_1</td>\n",
       "      <td>84.887269</td>\n",
       "    </tr>\n",
       "    <tr>\n",
       "      <th>2</th>\n",
       "      <td>id_2</td>\n",
       "      <td>37.900523</td>\n",
       "    </tr>\n",
       "    <tr>\n",
       "      <th>3</th>\n",
       "      <td>id_3</td>\n",
       "      <td>90.026105</td>\n",
       "    </tr>\n",
       "    <tr>\n",
       "      <th>4</th>\n",
       "      <td>id_4</td>\n",
       "      <td>73.132366</td>\n",
       "    </tr>\n",
       "  </tbody>\n",
       "</table>\n",
       "</div>"
      ],
      "text/plain": [
       "     id      value\n",
       "0  id_0  55.787680\n",
       "1  id_1  84.887269\n",
       "2  id_2  37.900523\n",
       "3  id_3  90.026105\n",
       "4  id_4  73.132366"
      ]
     },
     "execution_count": 439,
     "metadata": {},
     "output_type": "execute_result"
    }
   ],
   "source": [
    "d_submission.head()"
   ]
  }
 ],
 "metadata": {
  "kernelspec": {
   "display_name": "Python 3",
   "language": "python",
   "name": "python3"
  },
  "language_info": {
   "codemirror_mode": {
    "name": "ipython",
    "version": 3
   },
   "file_extension": ".py",
   "mimetype": "text/x-python",
   "name": "python",
   "nbconvert_exporter": "python",
   "pygments_lexer": "ipython3",
   "version": "3.6.8"
  }
 },
 "nbformat": 4,
 "nbformat_minor": 2
}
