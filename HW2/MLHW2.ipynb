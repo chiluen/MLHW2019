{
  "nbformat": 4,
  "nbformat_minor": 0,
  "metadata": {
    "colab": {
      "name": "MLHW2.ipynb",
      "provenance": []
    },
    "kernelspec": {
      "name": "python3",
      "display_name": "Python 3"
    },
    "accelerator": "GPU"
  },
  "cells": [
    {
      "cell_type": "code",
      "metadata": {
        "id": "JuwGUBWbTFUJ",
        "colab_type": "code",
        "colab": {}
      },
      "source": [
        "# Code to read csv file into Colaboratory:\n",
        "!pip install -U -q PyDrive\n",
        "from pydrive.auth import GoogleAuth\n",
        "from pydrive.drive import GoogleDrive\n",
        "from google.colab import auth\n",
        "from oauth2client.client import GoogleCredentials\n",
        "import pandas as pd\n",
        "import numpy as np\n",
        "import matplotlib.pyplot as plt\n",
        "\n",
        "\n",
        "# Authenticate and create the PyDrive client.  #用來驗證\n",
        "auth.authenticate_user()\n",
        "gauth = GoogleAuth()\n",
        "gauth.credentials = GoogleCredentials.get_application_default()\n",
        "drive = GoogleDrive(gauth)"
      ],
      "execution_count": 0,
      "outputs": []
    },
    {
      "cell_type": "code",
      "metadata": {
        "id": "QV1CfgO_TPyb",
        "colab_type": "code",
        "colab": {}
      },
      "source": [
        "#這邊的link是檔案共用連結\n",
        "link1 = 'https://drive.google.com/open?id=1LXVF-Lke2i08Hrd5pZvs-YkJcISswHIY'  \n",
        "link2 = 'https://drive.google.com/open?id=1a8Go5Zb0XP8-w5Donim37Zpw_HbWduQX'\n",
        "link3 = 'https://drive.google.com/open?id=10GkVlMBhF2q5dnRRNBkY_E0ZWPzTn-Sq'  \n",
        "link4 = 'https://drive.google.com/open?id=1QHXlAX2F0_Xszv-wxntZgpukka2hw8vj'\n",
        "# Verify that you have everything after '='\n",
        "fluff, id1 = link1.split('=') \n",
        "fluff, id2 = link2.split('=')\n",
        "fluff, id3 = link3.split('=') \n",
        "fluff, id4 = link4.split('=') \n",
        "\n",
        "\n",
        "#這邊要放檔案名稱\n",
        "downloaded1 = drive.CreateFile({'id':id1}) \n",
        "downloaded2 = drive.CreateFile({'id':id2}) \n",
        "downloaded3 = drive.CreateFile({'id':id3}) \n",
        "downloaded4 = drive.CreateFile({'id':id4}) \n",
        "downloaded1.GetContentFile('X_train') \n",
        "downloaded2.GetContentFile('Y_train') \n",
        "downloaded3.GetContentFile('X_test') \n",
        "downloaded4.GetContentFile('sample_submission') \n",
        "X_train = np.genfromtxt('X_train', delimiter=',', skip_header=1)\n",
        "Y_train = np.genfromtxt('Y_train', delimiter=',', skip_header=1)\n",
        "X_test = np.genfromtxt('X_test', delimiter=',', skip_header=1)\n",
        "submission = pd.read_csv('sample_submission')"
      ],
      "execution_count": 0,
      "outputs": []
    },
    {
      "cell_type": "code",
      "metadata": {
        "id": "mqFmj9BhUdCc",
        "colab_type": "code",
        "colab": {}
      },
      "source": [
        "#先把特定行數做normalization\n",
        "#選擇的行數為：0,1,3,4,5,7,10,12,25,26,27,28 , 先學助教\n",
        "#這邊的mean與std要先存起來, 讓之後testing data可以用（用同一個標準做正規化才有用！！！！！）\n",
        "def normalization(X, column, train = True ,X_mean = None, X_std = None):\n",
        "    if train == True:\n",
        "        #先建立好mean與std\n",
        "        X_mean = np.mean(X[:, column],0)\n",
        "        X_std  = np.std(X[:, column],0)\n",
        "        X[:, column] = np.divide(np.subtract(X[:, column],X_mean), X_std)\n",
        "        return X, X_mean, X_std\n",
        "    \n",
        "    X[:, column] = np.divide(np.subtract(X[:, column],X_mean), X_std)\n",
        "    \n",
        "    return X\n",
        "  \n",
        "  \n",
        "  \n",
        "def normalization_all(X, train = True, X_mean = None, X_std = None):\n",
        "  if train == True:\n",
        "    X_mean = np.mean(X, axis = 0)\n",
        "    X_std = np.std(X, axis = 0)\n",
        "    X = np.divide(np.subtract(X, X_mean), X_std)\n",
        "    return X, X_mean, X_std\n",
        "  X = np.divide(np.subtract(X, X_mean), X_std)\n",
        "  return X\n",
        "    "
      ],
      "execution_count": 0,
      "outputs": []
    },
    {
      "cell_type": "markdown",
      "metadata": {
        "id": "SRn7YrTtCB7T",
        "colab_type": "text"
      },
      "source": [
        "用 sklearn的 GradientBoosting試試看："
      ]
    },
    {
      "cell_type": "code",
      "metadata": {
        "id": "SchHuGbmDp-G",
        "colab_type": "code",
        "colab": {}
      },
      "source": [
        "#normalization\n",
        "X_train, X_mean, X_std = normalization_all(X_train)"
      ],
      "execution_count": 0,
      "outputs": []
    },
    {
      "cell_type": "code",
      "metadata": {
        "id": "waAay2oqCHsq",
        "colab_type": "code",
        "outputId": "e74f1849-bac8-4cf7-f92f-2461da136d5b",
        "colab": {
          "base_uri": "https://localhost:8080/",
          "height": 193
        }
      },
      "source": [
        "from sklearn.ensemble import GradientBoostingClassifier\n",
        "model = GradientBoostingClassifier(learning_rate=0.25,subsample=0.65,random_state=10,n_estimators=70,max_depth=3,min_samples_split=8)\n",
        "model.fit(X_train, Y_train)"
      ],
      "execution_count": 0,
      "outputs": [
        {
          "output_type": "execute_result",
          "data": {
            "text/plain": [
              "GradientBoostingClassifier(criterion='friedman_mse', init=None,\n",
              "                           learning_rate=0.25, loss='deviance', max_depth=3,\n",
              "                           max_features=None, max_leaf_nodes=None,\n",
              "                           min_impurity_decrease=0.0, min_impurity_split=None,\n",
              "                           min_samples_leaf=1, min_samples_split=8,\n",
              "                           min_weight_fraction_leaf=0.0, n_estimators=70,\n",
              "                           n_iter_no_change=None, presort='auto',\n",
              "                           random_state=10, subsample=0.65, tol=0.0001,\n",
              "                           validation_fraction=0.1, verbose=0,\n",
              "                           warm_start=False)"
            ]
          },
          "metadata": {
            "tags": []
          },
          "execution_count": 127
        }
      ]
    },
    {
      "cell_type": "code",
      "metadata": {
        "id": "wcrdWXNFCIAs",
        "colab_type": "code",
        "colab": {}
      },
      "source": [
        "#X_test = normalization_all(X_test, train = False, X_mean = X_mean, X_std = X_std)\n",
        "ans = model.predict(X_test)"
      ],
      "execution_count": 0,
      "outputs": []
    },
    {
      "cell_type": "code",
      "metadata": {
        "id": "GebZlTTOEaEu",
        "colab_type": "code",
        "colab": {}
      },
      "source": [
        "for i in range(len(ans)):\n",
        "  if ans[i] >= 0.5:\n",
        "    submission.iloc[i,1] = 1\n",
        "    \n",
        "from google.colab import files\n",
        "submission.to_csv('submit.csv', index = False)\n",
        "\n",
        "files.download('submit.csv') "
      ],
      "execution_count": 0,
      "outputs": []
    },
    {
      "cell_type": "markdown",
      "metadata": {
        "id": "t8etrLgcXeIo",
        "colab_type": "text"
      },
      "source": [
        "這邊用DNN試試看是否可以work"
      ]
    },
    {
      "cell_type": "code",
      "metadata": {
        "id": "VK7HTgU8BgIg",
        "colab_type": "code",
        "colab": {}
      },
      "source": [
        "#按照助教給的col進行normalization\n",
        "col = [0,1,3,4,5,7,10,12,25,26,27,28]\n",
        "X_train, X_mean, X_std = normalization(X_train, col, train = True)\n",
        "Y_train = Y_train.reshape(-1,1)"
      ],
      "execution_count": 0,
      "outputs": []
    },
    {
      "cell_type": "code",
      "metadata": {
        "id": "nXcnrBst_Bx9",
        "colab_type": "code",
        "colab": {}
      },
      "source": [
        "import sklearn\n",
        "from sklearn.model_selection import train_test_split\n",
        "X_train, X_test, Y_train, Y_test = train_test_split(X_train, Y_train, test_size = 0.4, random_state = 5)"
      ],
      "execution_count": 0,
      "outputs": []
    },
    {
      "cell_type": "code",
      "metadata": {
        "id": "xdX_WaACXeXn",
        "colab_type": "code",
        "colab": {}
      },
      "source": [
        "from keras import regularizers\n",
        "from keras import backend as K\n",
        "from keras.models import Sequential\n",
        "from keras.layers import Dense, Dropout, Activation, BatchNormalization\n",
        "from keras.layers.advanced_activations import LeakyReLU\n",
        "from keras.callbacks import EarlyStopping\n",
        "\n",
        "\n",
        "epochs = 80\n",
        "batch_size = 64\n",
        "\n",
        "model = Sequential()\n",
        "model.add(Dense(64, input_shape = (X_train.shape[1], )))\n",
        "model.add(BatchNormalization(axis = 1, momentum=0.99, epsilon=0.001))\n",
        "model.add(Activation('sigmoid'))\n",
        "model.add(Dropout(0.4))\n",
        "\n",
        "model.add(Dense(64))\n",
        "model.add(BatchNormalization(axis = 1, momentum=0.99, epsilon=0.001))\n",
        "model.add(Activation('sigmoid'))\n",
        "model.add(Dropout(0.4))\n",
        "\n",
        "model.add(Dense(64))\n",
        "model.add(BatchNormalization(axis = 1, momentum=0.99, epsilon=0.001))\n",
        "model.add(Activation('sigmoid'))\n",
        "model.add(Dropout(0.4))\n",
        "\n",
        "model.add(Dense(64))\n",
        "model.add(BatchNormalization(axis = 1, momentum=0.99, epsilon=0.001))\n",
        "model.add(Activation('sigmoid'))\n",
        "model.add(Dropout(0.4))\n",
        "\n",
        "model.add(Dense(1))\n",
        "model.add(Activation('sigmoid'))\n",
        "model.compile(loss='binary_crossentropy',optimizer='adamax', metrics=['binary_accuracy'])\n"
      ],
      "execution_count": 0,
      "outputs": []
    },
    {
      "cell_type": "code",
      "metadata": {
        "id": "4zJgabsUXesp",
        "colab_type": "code",
        "outputId": "05823edd-df6d-436c-fbe3-fecd4013e4ad",
        "colab": {
          "base_uri": "https://localhost:8080/",
          "height": 1000
        }
      },
      "source": [
        "#callbacks_list = [EarlyStopping(monitor = 'binary_accuracy', mode = max, patience = 2)]\n",
        "train_histroy = model.fit(X_train, Y_train, validation_data=(X_test, Y_test), batch_size = batch_size, epochs = epochs)"
      ],
      "execution_count": 0,
      "outputs": [
        {
          "output_type": "stream",
          "text": [
            "Train on 19536 samples, validate on 13025 samples\n",
            "Epoch 1/80\n",
            "19536/19536 [==============================] - 5s 243us/step - loss: 0.3639 - binary_accuracy: 0.8242 - val_loss: 0.3329 - val_binary_accuracy: 0.8495\n",
            "Epoch 2/80\n",
            "19536/19536 [==============================] - 5s 242us/step - loss: 0.3641 - binary_accuracy: 0.8237 - val_loss: 0.3373 - val_binary_accuracy: 0.8516\n",
            "Epoch 3/80\n",
            "19536/19536 [==============================] - 5s 243us/step - loss: 0.3633 - binary_accuracy: 0.8256 - val_loss: 0.3319 - val_binary_accuracy: 0.8526\n",
            "Epoch 4/80\n",
            "19536/19536 [==============================] - 5s 240us/step - loss: 0.3630 - binary_accuracy: 0.8306 - val_loss: 0.3328 - val_binary_accuracy: 0.8524\n",
            "Epoch 5/80\n",
            "19536/19536 [==============================] - 5s 239us/step - loss: 0.3596 - binary_accuracy: 0.8290 - val_loss: 0.3309 - val_binary_accuracy: 0.8515\n",
            "Epoch 6/80\n",
            "19536/19536 [==============================] - 5s 247us/step - loss: 0.3639 - binary_accuracy: 0.8264 - val_loss: 0.3338 - val_binary_accuracy: 0.8534\n",
            "Epoch 7/80\n",
            "19536/19536 [==============================] - 5s 245us/step - loss: 0.3593 - binary_accuracy: 0.8314 - val_loss: 0.3297 - val_binary_accuracy: 0.8524\n",
            "Epoch 8/80\n",
            "19536/19536 [==============================] - 5s 244us/step - loss: 0.3576 - binary_accuracy: 0.8336 - val_loss: 0.3289 - val_binary_accuracy: 0.8535\n",
            "Epoch 9/80\n",
            "19536/19536 [==============================] - 5s 239us/step - loss: 0.3523 - binary_accuracy: 0.8334 - val_loss: 0.3288 - val_binary_accuracy: 0.8534\n",
            "Epoch 10/80\n",
            "19536/19536 [==============================] - 5s 238us/step - loss: 0.3587 - binary_accuracy: 0.8302 - val_loss: 0.3305 - val_binary_accuracy: 0.8537\n",
            "Epoch 11/80\n",
            "19536/19536 [==============================] - 5s 244us/step - loss: 0.3590 - binary_accuracy: 0.8339 - val_loss: 0.3288 - val_binary_accuracy: 0.8548\n",
            "Epoch 12/80\n",
            "19536/19536 [==============================] - 5s 242us/step - loss: 0.3549 - binary_accuracy: 0.8343 - val_loss: 0.3278 - val_binary_accuracy: 0.8537\n",
            "Epoch 13/80\n",
            "19536/19536 [==============================] - 5s 235us/step - loss: 0.3552 - binary_accuracy: 0.8350 - val_loss: 0.3263 - val_binary_accuracy: 0.8533\n",
            "Epoch 14/80\n",
            "19536/19536 [==============================] - 5s 242us/step - loss: 0.3521 - binary_accuracy: 0.8371 - val_loss: 0.3260 - val_binary_accuracy: 0.8548\n",
            "Epoch 15/80\n",
            "19536/19536 [==============================] - 5s 245us/step - loss: 0.3528 - binary_accuracy: 0.8382 - val_loss: 0.3264 - val_binary_accuracy: 0.8546\n",
            "Epoch 16/80\n",
            "19536/19536 [==============================] - 5s 240us/step - loss: 0.3528 - binary_accuracy: 0.8372 - val_loss: 0.3264 - val_binary_accuracy: 0.8544\n",
            "Epoch 17/80\n",
            "19536/19536 [==============================] - 5s 249us/step - loss: 0.3526 - binary_accuracy: 0.8348 - val_loss: 0.3252 - val_binary_accuracy: 0.8534\n",
            "Epoch 18/80\n",
            "19536/19536 [==============================] - 5s 242us/step - loss: 0.3475 - binary_accuracy: 0.8381 - val_loss: 0.3241 - val_binary_accuracy: 0.8544\n",
            "Epoch 19/80\n",
            "19536/19536 [==============================] - 5s 242us/step - loss: 0.3493 - binary_accuracy: 0.8373 - val_loss: 0.3253 - val_binary_accuracy: 0.8538\n",
            "Epoch 20/80\n",
            "19536/19536 [==============================] - 5s 247us/step - loss: 0.3490 - binary_accuracy: 0.8373 - val_loss: 0.3263 - val_binary_accuracy: 0.8541\n",
            "Epoch 21/80\n",
            "19536/19536 [==============================] - 5s 241us/step - loss: 0.3501 - binary_accuracy: 0.8380 - val_loss: 0.3253 - val_binary_accuracy: 0.8537\n",
            "Epoch 22/80\n",
            "19536/19536 [==============================] - 5s 242us/step - loss: 0.3470 - binary_accuracy: 0.8382 - val_loss: 0.3241 - val_binary_accuracy: 0.8540\n",
            "Epoch 23/80\n",
            "19536/19536 [==============================] - 5s 236us/step - loss: 0.3446 - binary_accuracy: 0.8399 - val_loss: 0.3258 - val_binary_accuracy: 0.8527\n",
            "Epoch 24/80\n",
            "19536/19536 [==============================] - 5s 238us/step - loss: 0.3447 - binary_accuracy: 0.8410 - val_loss: 0.3215 - val_binary_accuracy: 0.8544\n",
            "Epoch 25/80\n",
            "19536/19536 [==============================] - 5s 244us/step - loss: 0.3465 - binary_accuracy: 0.8402 - val_loss: 0.3233 - val_binary_accuracy: 0.8527\n",
            "Epoch 26/80\n",
            "19536/19536 [==============================] - 5s 240us/step - loss: 0.3452 - binary_accuracy: 0.8422 - val_loss: 0.3254 - val_binary_accuracy: 0.8503\n",
            "Epoch 27/80\n",
            "19536/19536 [==============================] - 5s 242us/step - loss: 0.3432 - binary_accuracy: 0.8391 - val_loss: 0.3256 - val_binary_accuracy: 0.8517\n",
            "Epoch 28/80\n",
            "19536/19536 [==============================] - 5s 245us/step - loss: 0.3467 - binary_accuracy: 0.8390 - val_loss: 0.3223 - val_binary_accuracy: 0.8524\n",
            "Epoch 29/80\n",
            "19536/19536 [==============================] - 5s 244us/step - loss: 0.3434 - binary_accuracy: 0.8387 - val_loss: 0.3225 - val_binary_accuracy: 0.8526\n",
            "Epoch 30/80\n",
            "19536/19536 [==============================] - 5s 240us/step - loss: 0.3372 - binary_accuracy: 0.8425 - val_loss: 0.3211 - val_binary_accuracy: 0.8534\n",
            "Epoch 31/80\n",
            "19536/19536 [==============================] - 5s 240us/step - loss: 0.3419 - binary_accuracy: 0.8418 - val_loss: 0.3195 - val_binary_accuracy: 0.8530\n",
            "Epoch 32/80\n",
            "19536/19536 [==============================] - 5s 235us/step - loss: 0.3363 - binary_accuracy: 0.8430 - val_loss: 0.3208 - val_binary_accuracy: 0.8517\n",
            "Epoch 33/80\n",
            "19536/19536 [==============================] - 5s 237us/step - loss: 0.3394 - binary_accuracy: 0.8435 - val_loss: 0.3200 - val_binary_accuracy: 0.8528\n",
            "Epoch 34/80\n",
            "19536/19536 [==============================] - 5s 242us/step - loss: 0.3351 - binary_accuracy: 0.8430 - val_loss: 0.3201 - val_binary_accuracy: 0.8514\n",
            "Epoch 35/80\n",
            "19536/19536 [==============================] - 5s 248us/step - loss: 0.3381 - binary_accuracy: 0.8430 - val_loss: 0.3208 - val_binary_accuracy: 0.8518\n",
            "Epoch 36/80\n",
            "19536/19536 [==============================] - 5s 238us/step - loss: 0.3404 - binary_accuracy: 0.8419 - val_loss: 0.3198 - val_binary_accuracy: 0.8527\n",
            "Epoch 37/80\n",
            "19536/19536 [==============================] - 5s 236us/step - loss: 0.3385 - binary_accuracy: 0.8432 - val_loss: 0.3217 - val_binary_accuracy: 0.8508\n",
            "Epoch 38/80\n",
            "19536/19536 [==============================] - 5s 240us/step - loss: 0.3392 - binary_accuracy: 0.8442 - val_loss: 0.3223 - val_binary_accuracy: 0.8503\n",
            "Epoch 39/80\n",
            "19536/19536 [==============================] - 5s 252us/step - loss: 0.3366 - binary_accuracy: 0.8446 - val_loss: 0.3224 - val_binary_accuracy: 0.8484\n",
            "Epoch 40/80\n",
            "19536/19536 [==============================] - 5s 242us/step - loss: 0.3360 - binary_accuracy: 0.8456 - val_loss: 0.3206 - val_binary_accuracy: 0.8507\n",
            "Epoch 41/80\n",
            "19536/19536 [==============================] - 5s 248us/step - loss: 0.3373 - binary_accuracy: 0.8436 - val_loss: 0.3233 - val_binary_accuracy: 0.8492\n",
            "Epoch 42/80\n",
            "19536/19536 [==============================] - 5s 242us/step - loss: 0.3378 - binary_accuracy: 0.8425 - val_loss: 0.3215 - val_binary_accuracy: 0.8503\n",
            "Epoch 43/80\n",
            "19536/19536 [==============================] - 5s 242us/step - loss: 0.3349 - binary_accuracy: 0.8452 - val_loss: 0.3231 - val_binary_accuracy: 0.8484\n",
            "Epoch 44/80\n",
            "19536/19536 [==============================] - 5s 233us/step - loss: 0.3357 - binary_accuracy: 0.8423 - val_loss: 0.3193 - val_binary_accuracy: 0.8521\n",
            "Epoch 45/80\n",
            "19536/19536 [==============================] - 5s 240us/step - loss: 0.3335 - binary_accuracy: 0.8457 - val_loss: 0.3193 - val_binary_accuracy: 0.8533\n",
            "Epoch 46/80\n",
            "19536/19536 [==============================] - 5s 245us/step - loss: 0.3336 - binary_accuracy: 0.8468 - val_loss: 0.3189 - val_binary_accuracy: 0.8518\n",
            "Epoch 47/80\n",
            "19536/19536 [==============================] - 5s 238us/step - loss: 0.3343 - binary_accuracy: 0.8462 - val_loss: 0.3192 - val_binary_accuracy: 0.8522\n",
            "Epoch 48/80\n",
            "19536/19536 [==============================] - 5s 241us/step - loss: 0.3340 - binary_accuracy: 0.8456 - val_loss: 0.3206 - val_binary_accuracy: 0.8502\n",
            "Epoch 49/80\n",
            "19536/19536 [==============================] - 5s 239us/step - loss: 0.3340 - binary_accuracy: 0.8458 - val_loss: 0.3209 - val_binary_accuracy: 0.8497\n",
            "Epoch 50/80\n",
            "19536/19536 [==============================] - 5s 242us/step - loss: 0.3330 - binary_accuracy: 0.8441 - val_loss: 0.3190 - val_binary_accuracy: 0.8517\n",
            "Epoch 51/80\n",
            "19536/19536 [==============================] - 5s 239us/step - loss: 0.3344 - binary_accuracy: 0.8451 - val_loss: 0.3200 - val_binary_accuracy: 0.8504\n",
            "Epoch 52/80\n",
            "19536/19536 [==============================] - 5s 242us/step - loss: 0.3329 - binary_accuracy: 0.8451 - val_loss: 0.3201 - val_binary_accuracy: 0.8507\n",
            "Epoch 53/80\n",
            "19536/19536 [==============================] - 5s 239us/step - loss: 0.3320 - binary_accuracy: 0.8450 - val_loss: 0.3204 - val_binary_accuracy: 0.8498\n",
            "Epoch 54/80\n",
            "19536/19536 [==============================] - 5s 242us/step - loss: 0.3283 - binary_accuracy: 0.8477 - val_loss: 0.3211 - val_binary_accuracy: 0.8507\n",
            "Epoch 55/80\n",
            "19536/19536 [==============================] - 5s 235us/step - loss: 0.3331 - binary_accuracy: 0.8475 - val_loss: 0.3201 - val_binary_accuracy: 0.8513\n",
            "Epoch 56/80\n",
            "19536/19536 [==============================] - 5s 238us/step - loss: 0.3305 - binary_accuracy: 0.8466 - val_loss: 0.3201 - val_binary_accuracy: 0.8514\n",
            "Epoch 57/80\n",
            "19536/19536 [==============================] - 5s 239us/step - loss: 0.3321 - binary_accuracy: 0.8448 - val_loss: 0.3199 - val_binary_accuracy: 0.8504\n",
            "Epoch 58/80\n",
            "19536/19536 [==============================] - 5s 243us/step - loss: 0.3281 - binary_accuracy: 0.8466 - val_loss: 0.3193 - val_binary_accuracy: 0.8521\n",
            "Epoch 59/80\n",
            "19536/19536 [==============================] - 5s 243us/step - loss: 0.3303 - binary_accuracy: 0.8463 - val_loss: 0.3182 - val_binary_accuracy: 0.8531\n",
            "Epoch 60/80\n",
            "19536/19536 [==============================] - 5s 254us/step - loss: 0.3302 - binary_accuracy: 0.8444 - val_loss: 0.3184 - val_binary_accuracy: 0.8514\n",
            "Epoch 61/80\n",
            "19536/19536 [==============================] - 5s 256us/step - loss: 0.3284 - binary_accuracy: 0.8487 - val_loss: 0.3177 - val_binary_accuracy: 0.8525\n",
            "Epoch 62/80\n",
            "19536/19536 [==============================] - 5s 238us/step - loss: 0.3265 - binary_accuracy: 0.8480 - val_loss: 0.3180 - val_binary_accuracy: 0.8517\n",
            "Epoch 63/80\n",
            "19536/19536 [==============================] - 5s 240us/step - loss: 0.3268 - binary_accuracy: 0.8482 - val_loss: 0.3199 - val_binary_accuracy: 0.8504\n",
            "Epoch 64/80\n",
            "19536/19536 [==============================] - 5s 236us/step - loss: 0.3305 - binary_accuracy: 0.8440 - val_loss: 0.3184 - val_binary_accuracy: 0.8517\n",
            "Epoch 65/80\n",
            "19536/19536 [==============================] - 5s 240us/step - loss: 0.3304 - binary_accuracy: 0.8447 - val_loss: 0.3184 - val_binary_accuracy: 0.8522\n",
            "Epoch 66/80\n",
            "19536/19536 [==============================] - 5s 238us/step - loss: 0.3279 - binary_accuracy: 0.8466 - val_loss: 0.3203 - val_binary_accuracy: 0.8505\n",
            "Epoch 67/80\n",
            "19536/19536 [==============================] - 5s 239us/step - loss: 0.3287 - binary_accuracy: 0.8452 - val_loss: 0.3180 - val_binary_accuracy: 0.8531\n",
            "Epoch 68/80\n",
            "19536/19536 [==============================] - 5s 239us/step - loss: 0.3290 - binary_accuracy: 0.8466 - val_loss: 0.3189 - val_binary_accuracy: 0.8514\n",
            "Epoch 69/80\n",
            "19536/19536 [==============================] - 5s 243us/step - loss: 0.3300 - binary_accuracy: 0.8458 - val_loss: 0.3185 - val_binary_accuracy: 0.8524\n",
            "Epoch 70/80\n",
            "19536/19536 [==============================] - 5s 241us/step - loss: 0.3274 - binary_accuracy: 0.8484 - val_loss: 0.3187 - val_binary_accuracy: 0.8511\n",
            "Epoch 71/80\n",
            "19536/19536 [==============================] - 5s 238us/step - loss: 0.3292 - binary_accuracy: 0.8483 - val_loss: 0.3183 - val_binary_accuracy: 0.8528\n",
            "Epoch 72/80\n",
            "19536/19536 [==============================] - 5s 240us/step - loss: 0.3262 - binary_accuracy: 0.8487 - val_loss: 0.3187 - val_binary_accuracy: 0.8527\n",
            "Epoch 73/80\n",
            "19536/19536 [==============================] - 5s 246us/step - loss: 0.3281 - binary_accuracy: 0.8482 - val_loss: 0.3175 - val_binary_accuracy: 0.8534\n",
            "Epoch 74/80\n",
            "19536/19536 [==============================] - 5s 243us/step - loss: 0.3258 - binary_accuracy: 0.8485 - val_loss: 0.3184 - val_binary_accuracy: 0.8540\n",
            "Epoch 75/80\n",
            "19536/19536 [==============================] - 5s 242us/step - loss: 0.3256 - binary_accuracy: 0.8495 - val_loss: 0.3178 - val_binary_accuracy: 0.8534\n",
            "Epoch 76/80\n",
            "19536/19536 [==============================] - 5s 241us/step - loss: 0.3264 - binary_accuracy: 0.8483 - val_loss: 0.3183 - val_binary_accuracy: 0.8530\n",
            "Epoch 77/80\n",
            "19536/19536 [==============================] - 5s 239us/step - loss: 0.3265 - binary_accuracy: 0.8484 - val_loss: 0.3192 - val_binary_accuracy: 0.8524\n",
            "Epoch 78/80\n",
            "19536/19536 [==============================] - 5s 241us/step - loss: 0.3256 - binary_accuracy: 0.8468 - val_loss: 0.3178 - val_binary_accuracy: 0.8533\n",
            "Epoch 79/80\n",
            "19536/19536 [==============================] - 5s 241us/step - loss: 0.3283 - binary_accuracy: 0.8463 - val_loss: 0.3185 - val_binary_accuracy: 0.8531\n",
            "Epoch 80/80\n",
            "19536/19536 [==============================] - 5s 244us/step - loss: 0.3248 - binary_accuracy: 0.8485 - val_loss: 0.3175 - val_binary_accuracy: 0.8529\n"
          ],
          "name": "stdout"
        }
      ]
    },
    {
      "cell_type": "code",
      "metadata": {
        "id": "Z9uVIvvTnakw",
        "colab_type": "code",
        "colab": {}
      },
      "source": [
        "X_test = normalization(X_test, col, train = False, X_mean = X_mean, X_std = X_std)"
      ],
      "execution_count": 0,
      "outputs": []
    },
    {
      "cell_type": "code",
      "metadata": {
        "id": "mkNgGnZe3NIe",
        "colab_type": "code",
        "outputId": "7764dba4-2507-466e-a928-f2588a24f927",
        "colab": {
          "base_uri": "https://localhost:8080/",
          "height": 34
        }
      },
      "source": [
        "type(X_test)"
      ],
      "execution_count": 0,
      "outputs": [
        {
          "output_type": "execute_result",
          "data": {
            "text/plain": [
              "numpy.ndarray"
            ]
          },
          "metadata": {
            "tags": []
          },
          "execution_count": 29
        }
      ]
    },
    {
      "cell_type": "code",
      "metadata": {
        "id": "6eQgZdRxn51c",
        "colab_type": "code",
        "colab": {}
      },
      "source": [
        "ans = model.predict(X_test)\n",
        "for i in range(len(ans)):\n",
        "  if ans[i] >= 0.5:\n",
        "    submission.iloc[i,1] = 1\n",
        "    \n",
        "#注意, 很多答案都是同一個, 在ans裡面（感覺不是很合理）"
      ],
      "execution_count": 0,
      "outputs": []
    },
    {
      "cell_type": "code",
      "metadata": {
        "id": "TnPyn9S0Ueb6",
        "colab_type": "code",
        "colab": {}
      },
      "source": [
        "from google.colab import files\n",
        "submission.to_csv('submit.csv', index = False)"
      ],
      "execution_count": 0,
      "outputs": []
    },
    {
      "cell_type": "code",
      "metadata": {
        "id": "6vpsO0tDU5dy",
        "colab_type": "code",
        "colab": {}
      },
      "source": [
        "files.download('submit.csv') "
      ],
      "execution_count": 0,
      "outputs": []
    }
  ]
}