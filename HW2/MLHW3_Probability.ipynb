{
 "cells": [
  {
   "cell_type": "code",
   "execution_count": 1,
   "metadata": {},
   "outputs": [],
   "source": [
    "import pandas as pd\n",
    "import numpy as np\n",
    "import matplotlib.pyplot as plt"
   ]
  },
  {
   "cell_type": "code",
   "execution_count": 130,
   "metadata": {},
   "outputs": [],
   "source": [
    "X_train_fpath = '/Users/fengchi-luen/Desktop/機器學習/ml2019spring-hw2/X_train'\n",
    "Y_train_fpath = '/Users/fengchi-luen/Desktop/機器學習/ml2019spring-hw2/Y_train'\n",
    "X_test_fpath = '/Users/fengchi-luen/Desktop/機器學習/ml2019spring-hw2/X_test'\n",
    "\n",
    "X_train = np.genfromtxt(X_train_fpath, delimiter=',', skip_header=1)\n",
    "Y_train = np.genfromtxt(Y_train_fpath, delimiter=',', skip_header=1)\n",
    "X_test = np.genfromtxt(X_test_fpath, delimiter=',', skip_header=1)"
   ]
  },
  {
   "cell_type": "code",
   "execution_count": 127,
   "metadata": {},
   "outputs": [],
   "source": [
    "def normalization(X, column, train = True ,X_mean = None, X_std = None):\n",
    "    if train:\n",
    "        #先建立好mean與std\n",
    "        X_mean = np.reshape(np.mean(X[:, column],0), (1, len(column)))\n",
    "        X_std  = np.reshape(np.std(X[:, column],0), (1,len(column)))\n",
    "        X[:, column] = np.divide(np.subtract(X[:, column],X_mean), X_std)\n",
    "        return X, X_mean, X_std\n",
    "    \n",
    "    X[:, column] = np.divide(np.subtract(X[:, column],X_mean), X_std)\n",
    "    \n",
    "    return X"
   ]
  },
  {
   "cell_type": "code",
   "execution_count": 5,
   "metadata": {},
   "outputs": [],
   "source": [
    "col = [0,1,3,4,5,7,10,12,25,26,27,28]\n",
    "X_train, X_mean, X_std = normalization(X_train, col, train = True)\n",
    "Y_train = Y_train.reshape(-1,1)"
   ]
  },
  {
   "cell_type": "markdown",
   "metadata": {},
   "source": [
    "Probability Model"
   ]
  },
  {
   "cell_type": "code",
   "execution_count": 18,
   "metadata": {},
   "outputs": [],
   "source": [
    "#先把class_0, class_1分出來\n",
    "class_0_id = []\n",
    "class_1_id = []\n",
    "for i in range(Y_train.shape[0]):\n",
    "    if Y_train[i] == 1:\n",
    "        class_1_id.append(i)\n",
    "    else:\n",
    "        class_0_id.append(i)\n",
    "class_0 = X_train[class_0_id]\n",
    "class_1 = X_train[class_1_id]"
   ]
  },
  {
   "cell_type": "code",
   "execution_count": 24,
   "metadata": {},
   "outputs": [
    {
     "data": {
      "text/plain": [
       "24720"
      ]
     },
     "execution_count": 24,
     "metadata": {},
     "output_type": "execute_result"
    }
   ],
   "source": [
    "class_0.shape[0]"
   ]
  },
  {
   "cell_type": "code",
   "execution_count": 94,
   "metadata": {},
   "outputs": [],
   "source": [
    "#計算mean與cov\n",
    "\n",
    "#mean\n",
    "mean_0 = np.mean(class_0, axis = 0).reshape([1,-1])\n",
    "mean_1 = np.mean(class_1, axis = 0).reshape([1,-1])\n",
    "\n",
    "#加權的cov\n",
    "n = class_0.shape[1]\n",
    "cov_0 = np.zeros((n,n))\n",
    "cov_1 = np.zeros((n,n))\n",
    "\n",
    "row0 = class_0.shape[0]\n",
    "row1 = class_1.shape[0]\n",
    "\n",
    "for i in range(class_0.shape[0]):\n",
    "    cov_0 += np.dot((class_0[i] - mean_0).T, (class_0[i] - mean_0)) / row0\n",
    "for i in range(class_1.shape[0]):\n",
    "    cov_1 += np.dot((class_1[i] - mean_1).T, (class_1[i] - mean_1)) / row1\n",
    "cov = (cov_0 * row1 + cov_1 * row2) / (row0 + row1)\n"
   ]
  },
  {
   "cell_type": "code",
   "execution_count": 124,
   "metadata": {},
   "outputs": [],
   "source": [
    "#計算P(C｜x) = sigmoid(z) 的 z\n",
    "from numpy.linalg import inv\n",
    "w = ((mean_0 - mean_1)).dot( inv(cov) )\n",
    "b = (-0.5) * np.dot(np.dot(mean_0,inv(cov)), mean_0.T) \\\n",
    "    + 0.5 * np.dot(np.dot(mean_1,inv(cov)), mean_1.T) \\\n",
    "    +np.log(row0 / row1)"
   ]
  },
  {
   "cell_type": "code",
   "execution_count": 129,
   "metadata": {},
   "outputs": [
    {
     "data": {
      "text/plain": [
       "(16281, 14)"
      ]
     },
     "execution_count": 129,
     "metadata": {},
     "output_type": "execute_result"
    }
   ],
   "source": [
    "X_test.shape"
   ]
  },
  {
   "cell_type": "code",
   "execution_count": 131,
   "metadata": {},
   "outputs": [],
   "source": [
    "#計算所有答案\n",
    "col = [0,1,3,4,5,7,10,12,25,26,27,28]\n",
    "X_test = normalization(X_test, col, train = False ,X_mean = X_mean, X_std = X_std)\n",
    "arr = []\n",
    "for i in range(X_test.shape[0]):\n",
    "    z = w.dot(X_test[i]) + b\n",
    "    z *= (-1)\n",
    "    z = 1 / (1 + np.exp(z))\n",
    "    arr.append( np.clip(z, (1e-8), 1 - (1e-8)))"
   ]
  },
  {
   "cell_type": "code",
   "execution_count": 141,
   "metadata": {},
   "outputs": [],
   "source": [
    "ans = []\n",
    "for i in range(X_test.shape[0]):\n",
    "    if arr[i] >= 0.5:\n",
    "        ans.append(1)\n",
    "    else:\n",
    "        ans.append(0)"
   ]
  }
 ],
 "metadata": {
  "kernelspec": {
   "display_name": "Python 3",
   "language": "python",
   "name": "python3"
  },
  "language_info": {
   "codemirror_mode": {
    "name": "ipython",
    "version": 3
   },
   "file_extension": ".py",
   "mimetype": "text/x-python",
   "name": "python",
   "nbconvert_exporter": "python",
   "pygments_lexer": "ipython3",
   "version": "3.7.4"
  }
 },
 "nbformat": 4,
 "nbformat_minor": 2
}
