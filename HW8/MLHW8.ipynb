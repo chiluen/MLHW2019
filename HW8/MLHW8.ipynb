{
  "nbformat": 4,
  "nbformat_minor": 0,
  "metadata": {
    "colab": {
      "name": "MLHW8.ipynb",
      "provenance": [],
      "collapsed_sections": []
    },
    "kernelspec": {
      "name": "python3",
      "display_name": "Python 3"
    },
    "accelerator": "GPU"
  },
  "cells": [
    {
      "cell_type": "code",
      "metadata": {
        "id": "3pELT_-0WElN",
        "colab_type": "code",
        "colab": {}
      },
      "source": [
        "# Code to read csv file into Colaboratory:\n",
        "!pip install -U -q PyDrive\n",
        "from pydrive.auth import GoogleAuth\n",
        "from pydrive.drive import GoogleDrive\n",
        "from google.colab import auth\n",
        "from oauth2client.client import GoogleCredentials\n",
        "import pandas as pd\n",
        "import numpy as np\n",
        "import matplotlib.pyplot as plt\n",
        "from keras.models import load_model\n",
        "import vis, keras\n",
        "\n",
        "\n",
        "# Authenticate and create the PyDrive client.  #用來驗證\n",
        "auth.authenticate_user()\n",
        "gauth = GoogleAuth()\n",
        "gauth.credentials = GoogleCredentials.get_application_default()\n",
        "drive = GoogleDrive(gauth)"
      ],
      "execution_count": 0,
      "outputs": []
    },
    {
      "cell_type": "code",
      "metadata": {
        "id": "TsQoWEYTWZ_5",
        "colab_type": "code",
        "colab": {}
      },
      "source": [
        "id1 = '1zeiBnux7KgCTfB6nwAUB8p3as9FJayxF'\n",
        "id2 = '1NqfACLqTByXSNPunB_zH0JoVTtSjFVE_'\n",
        "id3 = '16l6CeS_frdb1HBw2YuGbXSczN4eQlpdk'\n",
        "\n",
        "#這邊要放檔案名稱\n",
        "downloaded1 = drive.CreateFile({'id': id1})\n",
        "downloaded2 = drive.CreateFile({'id': id2})\n",
        "downloaded3 = drive.CreateFile({'id': id3})\n",
        "\n",
        "downloaded1.GetContentFile('train.csv')\n",
        "downloaded2.GetContentFile('test.csv')\n",
        "downloaded3.GetContentFile('sample_submission.csv')\n",
        "\n",
        "df = pd.read_csv('train.csv')\n",
        "df_testing = pd.read_csv('test.csv')"
      ],
      "execution_count": 0,
      "outputs": []
    },
    {
      "cell_type": "code",
      "metadata": {
        "id": "Ey7CmJEsXT4M",
        "colab_type": "code",
        "colab": {}
      },
      "source": [
        "#把data做validation\n",
        "from sklearn.model_selection import train_test_split\n",
        "X = df.drop('label', axis = 1)\n",
        "Y = df['label']\n",
        "X_train, X_test, Y_train, Y_test = train_test_split(X, Y, test_size = 0.3, random_state = 3)"
      ],
      "execution_count": 0,
      "outputs": []
    },
    {
      "cell_type": "code",
      "metadata": {
        "id": "Y7eirgi8XUDg",
        "colab_type": "code",
        "colab": {}
      },
      "source": [
        "#轉成可以用的data模式\n",
        "def shape_CNN(data):\n",
        "  temp = []\n",
        "  for i in range(data.shape[0]):\n",
        "    temp.append(np.array(data.iloc[i,0].split(\" \"), dtype = 'float').reshape(48, 48, 1))  #第一個1代表色階\n",
        "  return np.array(temp) / 255  #做個標準化"
      ],
      "execution_count": 0,
      "outputs": []
    },
    {
      "cell_type": "code",
      "metadata": {
        "id": "_OcZwAdnXUGK",
        "colab_type": "code",
        "colab": {}
      },
      "source": [
        "from keras.utils import np_utils\n",
        "\n",
        "X_train = shape_CNN(X_train)\n",
        "X_test = shape_CNN(X_test)\n",
        "Y_train = np_utils.to_categorical(Y_train, 7)\n",
        "Y_test = np_utils.to_categorical(Y_test, 7)"
      ],
      "execution_count": 0,
      "outputs": []
    },
    {
      "cell_type": "code",
      "metadata": {
        "id": "DYGjGIyoXUI1",
        "colab_type": "code",
        "colab": {}
      },
      "source": [
        "import keras\n",
        "from keras.layers import DepthwiseConv2D, Conv2D, AveragePooling2D, BatchNormalization, Input, MaxPooling2D\n",
        "from keras.layers import Dense, Activation, Flatten, Dropout, Input\n",
        "from keras.layers import LeakyReLU\n",
        "from keras.models import Sequential, Model"
      ],
      "execution_count": 0,
      "outputs": []
    },
    {
      "cell_type": "markdown",
      "metadata": {
        "id": "-1BSfzBfoW4i",
        "colab_type": "text"
      },
      "source": [
        "Mobilenet V1"
      ]
    },
    {
      "cell_type": "code",
      "metadata": {
        "id": "LRy3gJPRXUOc",
        "colab_type": "code",
        "colab": {}
      },
      "source": [
        "def identity_block(model, filters, Con = True):\n",
        "  kernel_size = (3,3)\n",
        "  pool_size = (2,2)\n",
        "  kernel_initializer = keras.initializers.glorot_normal()\n",
        "  \n",
        "  if Con == True:\n",
        "    #先針對每一個channel\n",
        "    x = DepthwiseConv2D(kernel_size = kernel_size, padding = 'same')(model) \n",
        "    x = BatchNormalization()(x)\n",
        "    x = LeakyReLU()(x)\n",
        "    \n",
        "    #再用1x1把用完Depthwise的東西作轉換, 最後再做pooling\n",
        "    x = Conv2D(filters = filters, kernel_size = (1,1), padding = 'same', kernel_initializer = kernel_initializer)(x)\n",
        "    x = BatchNormalization()(x)\n",
        "    x = LeakyReLU()(x)\n",
        "    x = MaxPooling2D(pool_size = pool_size, padding = 'same')(x)\n",
        "    return x\n",
        "  else:\n",
        "    x = Dense(units = filters, kernel_initializer = kernel_initializer)(model)\n",
        "    x = BatchNormalization()(x)\n",
        "    x = LeakyReLU()(x)\n",
        "    return x"
      ],
      "execution_count": 0,
      "outputs": []
    },
    {
      "cell_type": "code",
      "metadata": {
        "id": "VeoAYcKtXUL5",
        "colab_type": "code",
        "colab": {}
      },
      "source": [
        "input_img = Input(shape = (48,48,1))\n",
        "\n",
        "#第一層先做一般的CNN\n",
        "Mobilenet = Conv2D(filters = 128, kernel_size = (3,3), padding = 'same', kernel_initializer = keras.initializers.glorot_normal())(input_img)\n",
        "Mobilenet = BatchNormalization()(Mobilenet)\n",
        "Mobilenet = LeakyReLU()(Mobilenet)\n",
        "Mobilenet = MaxPooling2D(pool_size = (2,2), padding = 'same')(Mobilenet)\n",
        "\n",
        "Mobilenet = identity_block(Mobilenet, 128)\n",
        "Mobilenet = identity_block(Mobilenet, 256)\n",
        "Mobilenet = identity_block(Mobilenet, 256)\n",
        "\n",
        "Mobilenet = Flatten()(Mobilenet)\n",
        "Mobilenet = identity_block(Mobilenet, 64, Con = False)\n",
        "Mobilenet = identity_block(Mobilenet, 64, Con = False)\n",
        "\n",
        "Mobilenet = Dense(units = 7, activation='softmax')(Mobilenet)\n",
        "\n",
        "Mobilenet = Model(input_img, Mobilenet)  \n",
        "Mobilenet.compile(optimizer='adamax', loss='categorical_crossentropy', metrics = ['accuracy'])"
      ],
      "execution_count": 0,
      "outputs": []
    },
    {
      "cell_type": "code",
      "metadata": {
        "id": "QC5QgvjDx0QV",
        "colab_type": "code",
        "colab": {}
      },
      "source": [
        "#Image generator\n",
        "from keras.preprocessing.image import ImageDataGenerator\n",
        "img_generator = ImageDataGenerator(rotation_range = 20, width_shift_range = 0.2, height_shift_range = 0.2, zoom_range = 0.3)"
      ],
      "execution_count": 0,
      "outputs": []
    },
    {
      "cell_type": "code",
      "metadata": {
        "id": "t-CRqx_jSrZZ",
        "colab_type": "code",
        "outputId": "846071a8-167d-4e50-dc82-70849c8bcdbf",
        "colab": {
          "base_uri": "https://localhost:8080/",
          "height": 72
        }
      },
      "source": [
        "#callback函數\n",
        "from keras.callbacks import EarlyStopping, ReduceLROnPlateau\n",
        "\n",
        "lr_adjust = ReduceLROnPlateau(monitor='val_acc', factor=0.1, patience = 4, verbose = 1, mode='auto', epsilon=0.0001, cooldown=0, min_lr=0)\n",
        "earlystopping = EarlyStopping(monitor='val_acc', patience = 4, verbose = 1, mode='auto')"
      ],
      "execution_count": 25,
      "outputs": [
        {
          "output_type": "stream",
          "text": [
            "/usr/local/lib/python3.6/dist-packages/keras/callbacks.py:1335: UserWarning: `epsilon` argument is deprecated and will be removed, use `min_delta` instead.\n",
            "  warnings.warn('`epsilon` argument is deprecated and '\n"
          ],
          "name": "stderr"
        }
      ]
    },
    {
      "cell_type": "code",
      "metadata": {
        "id": "ForU1yIcvyyg",
        "colab_type": "code",
        "outputId": "dd289f3c-812a-4eee-add7-54f0b6ee910d",
        "colab": {
          "base_uri": "https://localhost:8080/",
          "height": 90
        }
      },
      "source": [
        "epochs = 1\n",
        "batch_size = 64\n",
        "\n",
        "Mobilenet.fit_generator(img_generator.flow(X_train, Y_train, batch_size = batch_size), \n",
        "                        steps_per_epoch=len(X_train)/12, \n",
        "                        validation_data=(X_test, Y_test), \n",
        "                        epochs = epochs,\n",
        "                        callbacks = [lr_adjust, earlystopping])"
      ],
      "execution_count": 47,
      "outputs": [
        {
          "output_type": "stream",
          "text": [
            "Epoch 1/1\n",
            "1675/1674 [==============================] - 117s 70ms/step - loss: 0.7393 - acc: 0.7256 - val_loss: 1.0766 - val_acc: 0.6362\n"
          ],
          "name": "stdout"
        },
        {
          "output_type": "execute_result",
          "data": {
            "text/plain": [
              "<keras.callbacks.History at 0x7ff93b450198>"
            ]
          },
          "metadata": {
            "tags": []
          },
          "execution_count": 47
        }
      ]
    },
    {
      "cell_type": "markdown",
      "metadata": {
        "id": "UUF6h3jsy8hm",
        "colab_type": "text"
      },
      "source": [
        "最後輸出"
      ]
    },
    {
      "cell_type": "code",
      "metadata": {
        "id": "GnuYUs6ky8kd",
        "colab_type": "code",
        "colab": {}
      },
      "source": [
        "df_testing = df_testing.drop('id', axis = 1)\n",
        "df_testing = shape_CNN(df_testing)\n",
        "result_final = Mobilenet.predict(df_testing)\n",
        "sample_submission = pd.read_csv('sample_submission.csv', header = 0,encoding = 'unicode_escape')"
      ],
      "execution_count": 0,
      "outputs": []
    },
    {
      "cell_type": "code",
      "metadata": {
        "id": "PSp9gME5y8p1",
        "colab_type": "code",
        "colab": {}
      },
      "source": [
        "for i in range(result_final.shape[0]):\n",
        "  sample_submission.iloc[i,1] = int(np.argmax(result_final[i]))"
      ],
      "execution_count": 0,
      "outputs": []
    },
    {
      "cell_type": "code",
      "metadata": {
        "id": "VYi-kOhZTvJc",
        "colab_type": "code",
        "colab": {}
      },
      "source": [
        "from google.colab import files\n",
        "sample_submission.to_csv('submit.csv', index = False)\n",
        "files.download('submit.csv')"
      ],
      "execution_count": 0,
      "outputs": []
    },
    {
      "cell_type": "code",
      "metadata": {
        "id": "HebMUwAPTGtn",
        "colab_type": "code",
        "colab": {}
      },
      "source": [
        "Mobilenet.save('my_model.h5')\n",
        "files.download('my_model.h5')"
      ],
      "execution_count": 0,
      "outputs": []
    }
  ]
}